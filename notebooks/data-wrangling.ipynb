{
 "cells": [
  {
   "cell_type": "code",
   "execution_count": 51,
   "metadata": {},
   "outputs": [],
   "source": [
    "import os\n",
    "import pandas as pd\n",
    "import numpy as np\n",
    "import nltk"
   ]
  },
  {
   "cell_type": "code",
   "execution_count": 2,
   "metadata": {},
   "outputs": [],
   "source": [
    "def format_names():\n",
    "    female_fn = '../names/female.txt'\n",
    "    male_fn = '../names/male.txt'\n",
    "\n",
    "    males = pd.read_csv(male_fn, skiprows=4)\n",
    "    males.rename(columns={males.columns[0]:'MaleNames'}, inplace=True)\n",
    "\n",
    "    females = pd.read_csv(female_fn, skiprows=4)\n",
    "    females.rename(columns={females.columns[0]:'FemaleNames'}, inplace=True)\n",
    "\n",
    "    merged = females.combine_first(males)\n",
    "    merged = merged.applymap(lambda s:s.lower() if type(s) == str else s)\n",
    "    \n",
    "    return merged"
   ]
  },
  {
   "cell_type": "code",
   "execution_count": 71,
   "metadata": {},
   "outputs": [],
   "source": [
    "def check_name_sex(name):\n",
    "    name = name.lower()\n",
    "    maleflags = merged['MaleNames'].eq(name).any()\n",
    "    femaleflags = merged['FemaleNames'].eq(name).any()\n",
    "    if maleflags and femaleflags:\n",
    "        val = 'ambiguous'\n",
    "    elif maleflags:\n",
    "        val = 'male'\n",
    "    elif femaleflags:\n",
    "        val = 'female'\n",
    "    else:\n",
    "        val = 'unknown'\n",
    "    print('The name {0} was decided to be {1}'.format(name, val))\n",
    "    return val\n",
    "        "
   ]
  },
  {
   "cell_type": "code",
   "execution_count": 94,
   "metadata": {},
   "outputs": [],
   "source": [
    "x = ['john', 'mary', 'jean', 'ali', 'susan','mamta','harry','hermione','ron','peter','marvin','julie','jeremy','salvador']"
   ]
  },
  {
   "cell_type": "code",
   "execution_count": 95,
   "metadata": {},
   "outputs": [
    {
     "name": "stdout",
     "output_type": "stream",
     "text": [
      "The name john was decided to be male\n",
      "The name mary was decided to be female\n",
      "The name jean was decided to be ambiguous\n",
      "The name ali was decided to be ambiguous\n",
      "The name susan was decided to be female\n",
      "The name mamta was decided to be unknown\n",
      "The name harry was decided to be male\n",
      "The name hermione was decided to be female\n",
      "The name ron was decided to be male\n",
      "The name peter was decided to be male\n",
      "The name marvin was decided to be male\n",
      "The name julie was decided to be ambiguous\n",
      "The name jeremy was decided to be male\n",
      "The name salvador was decided to be male\n"
     ]
    }
   ],
   "source": [
    "for i in x:\n",
    "    check_name_sex(i)"
   ]
  }
 ],
 "metadata": {
  "kernelspec": {
   "display_name": "hackdartmouth-v",
   "language": "python",
   "name": "hackdartmouth-v"
  },
  "language_info": {
   "codemirror_mode": {
    "name": "ipython",
    "version": 3
   },
   "file_extension": ".py",
   "mimetype": "text/x-python",
   "name": "python",
   "nbconvert_exporter": "python",
   "pygments_lexer": "ipython3",
   "version": "3.6.0"
  }
 },
 "nbformat": 4,
 "nbformat_minor": 2
}
