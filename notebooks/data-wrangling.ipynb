{
 "cells": [
  {
   "cell_type": "code",
   "execution_count": 2,
   "metadata": {},
   "outputs": [],
   "source": [
    "import os\n",
    "import pandas as pd\n",
    "import numpy as np\n",
    "import nltk"
   ]
  },
  {
   "cell_type": "markdown",
   "metadata": {},
   "source": [
    "### Using corpus of names"
   ]
  },
  {
   "cell_type": "code",
   "execution_count": 3,
   "metadata": {},
   "outputs": [],
   "source": [
    "def format_names():\n",
    "    female_fn = '../names/female.txt'\n",
    "    male_fn = '../names/male.txt'\n",
    "\n",
    "    males = pd.read_csv(male_fn, skiprows=4)\n",
    "    males.rename(columns={males.columns[0]:'MaleNames'}, inplace=True)\n",
    "\n",
    "    females = pd.read_csv(female_fn, skiprows=4)\n",
    "    females.rename(columns={females.columns[0]:'FemaleNames'}, inplace=True)\n",
    "\n",
    "    merged = females.combine_first(males)\n",
    "    merged = merged.applymap(lambda s:s.lower() if type(s) == str else s)\n",
    "    \n",
    "    return merged"
   ]
  },
  {
   "cell_type": "code",
   "execution_count": 4,
   "metadata": {},
   "outputs": [],
   "source": [
    "merged = format_names()"
   ]
  },
  {
   "cell_type": "code",
   "execution_count": 9,
   "metadata": {},
   "outputs": [
    {
     "data": {
      "text/html": [
       "<div>\n",
       "<style scoped>\n",
       "    .dataframe tbody tr th:only-of-type {\n",
       "        vertical-align: middle;\n",
       "    }\n",
       "\n",
       "    .dataframe tbody tr th {\n",
       "        vertical-align: top;\n",
       "    }\n",
       "\n",
       "    .dataframe thead th {\n",
       "        text-align: right;\n",
       "    }\n",
       "</style>\n",
       "<table border=\"1\" class=\"dataframe\">\n",
       "  <thead>\n",
       "    <tr style=\"text-align: right;\">\n",
       "      <th></th>\n",
       "      <th>FemaleNames</th>\n",
       "      <th>MaleNames</th>\n",
       "    </tr>\n",
       "  </thead>\n",
       "  <tbody>\n",
       "    <tr>\n",
       "      <th>0</th>\n",
       "      <td>abagael</td>\n",
       "      <td>aamir</td>\n",
       "    </tr>\n",
       "    <tr>\n",
       "      <th>1</th>\n",
       "      <td>abagail</td>\n",
       "      <td>aaron</td>\n",
       "    </tr>\n",
       "    <tr>\n",
       "      <th>2</th>\n",
       "      <td>abbe</td>\n",
       "      <td>abbey</td>\n",
       "    </tr>\n",
       "    <tr>\n",
       "      <th>3</th>\n",
       "      <td>abbey</td>\n",
       "      <td>abbie</td>\n",
       "    </tr>\n",
       "    <tr>\n",
       "      <th>4</th>\n",
       "      <td>abbi</td>\n",
       "      <td>abbot</td>\n",
       "    </tr>\n",
       "  </tbody>\n",
       "</table>\n",
       "</div>"
      ],
      "text/plain": [
       "  FemaleNames MaleNames\n",
       "0     abagael     aamir\n",
       "1     abagail     aaron\n",
       "2        abbe     abbey\n",
       "3       abbey     abbie\n",
       "4        abbi     abbot"
      ]
     },
     "execution_count": 9,
     "metadata": {},
     "output_type": "execute_result"
    }
   ],
   "source": [
    "merged.head()"
   ]
  },
  {
   "cell_type": "code",
   "execution_count": 5,
   "metadata": {},
   "outputs": [],
   "source": [
    "def check_name_sex(name, merged):\n",
    "    name = name.lower()\n",
    "    maleflags = merged['MaleNames'].eq(name).any()\n",
    "    femaleflags = merged['FemaleNames'].eq(name).any()\n",
    "    if maleflags and femaleflags:\n",
    "        val = 'ambiguous'\n",
    "    elif maleflags:\n",
    "        val = 'male'\n",
    "    elif femaleflags:\n",
    "        val = 'female'\n",
    "    else:\n",
    "        val = 'unknown'\n",
    "    print('The name {0} was decided to be {1}'.format(name, val))\n",
    "    return val\n",
    "        "
   ]
  },
  {
   "cell_type": "code",
   "execution_count": null,
   "metadata": {},
   "outputs": [],
   "source": []
  },
  {
   "cell_type": "code",
   "execution_count": 6,
   "metadata": {},
   "outputs": [],
   "source": [
    "benchmark_names = ['john', 'mary', 'jean', 'ali', 'susan','mamta','harry','hermione','ron','peter','marvin','julie','jeremy','salvador']"
   ]
  },
  {
   "cell_type": "code",
   "execution_count": 7,
   "metadata": {},
   "outputs": [
    {
     "name": "stdout",
     "output_type": "stream",
     "text": [
      "The name john was decided to be male\n",
      "The name mary was decided to be female\n",
      "The name jean was decided to be ambiguous\n",
      "The name ali was decided to be ambiguous\n",
      "The name susan was decided to be female\n",
      "The name mamta was decided to be unknown\n",
      "The name harry was decided to be male\n",
      "The name hermione was decided to be female\n",
      "The name ron was decided to be male\n",
      "The name peter was decided to be male\n",
      "The name marvin was decided to be male\n",
      "The name julie was decided to be ambiguous\n",
      "The name jeremy was decided to be male\n",
      "The name salvador was decided to be male\n"
     ]
    }
   ],
   "source": [
    "for i in benchmark_names:\n",
    "    check_name_sex(i, merged)"
   ]
  },
  {
   "cell_type": "markdown",
   "metadata": {},
   "source": [
    "### Using gender guesser"
   ]
  },
  {
   "cell_type": "code",
   "execution_count": 8,
   "metadata": {},
   "outputs": [
    {
     "name": "stdout",
     "output_type": "stream",
     "text": [
      "The name john was decided to be male\n",
      "The name mary was decided to be mostly_female\n",
      "The name jean was decided to be male\n",
      "The name ali was decided to be male\n",
      "The name susan was decided to be female\n",
      "The name mamta was decided to be female\n",
      "The name harry was decided to be male\n",
      "The name hermione was decided to be unknown\n",
      "The name ron was decided to be male\n",
      "The name peter was decided to be male\n",
      "The name marvin was decided to be male\n",
      "The name julie was decided to be female\n",
      "The name jeremy was decided to be male\n",
      "The name salvador was decided to be male\n"
     ]
    }
   ],
   "source": [
    "import gender_guesser.detector as gender\n",
    "d = gender.Detector()\n",
    "\n",
    "for i in benchmark_names:\n",
    "    #check_str = unicode(i.capitalize(), \"utf-8\")\n",
    "    #check_str = i.capitalize().decode(\"utf-8\")\n",
    "    print(\"The name {0} was decided to be {1}\".format(i, d.get_gender(i.capitalize())))"
   ]
  },
  {
   "cell_type": "code",
   "execution_count": 14,
   "metadata": {},
   "outputs": [],
   "source": [
    "def gender_guesser(name):\n",
    "    import gender_guesser.detector as gender\n",
    "    d = gender.Detector()\n",
    "    return(d.get_gender(name.capitalize()))"
   ]
  },
  {
   "cell_type": "code",
   "execution_count": 52,
   "metadata": {},
   "outputs": [],
   "source": [
    "def check_name_contigency(name, names_df):\n",
    "    val = check_name_sex(name, names_df)\n",
    "    if val == 'unknown':\n",
    "        val = gender_guesser(name)\n",
    "        if val == 'mostly_female':\n",
    "            return('female')\n",
    "        elif val == 'mostly_male':\n",
    "            return('male')\n",
    "        elif val == 'andy':\n",
    "            return('ambiguous')\n",
    "    return(val)"
   ]
  }
 ],
 "metadata": {
  "kernelspec": {
   "display_name": "Python 3",
   "language": "python",
   "name": "python3"
  },
  "language_info": {
   "codemirror_mode": {
    "name": "ipython",
    "version": 3
   },
   "file_extension": ".py",
   "mimetype": "text/x-python",
   "name": "python",
   "nbconvert_exporter": "python",
   "pygments_lexer": "ipython3",
   "version": "3.6.4"
  },
  "toc": {
   "base_numbering": 1,
   "nav_menu": {},
   "number_sections": true,
   "sideBar": true,
   "skip_h1_title": true,
   "title_cell": "Table of Contents",
   "title_sidebar": "Contents",
   "toc_cell": false,
   "toc_position": {},
   "toc_section_display": true,
   "toc_window_display": true
  }
 },
 "nbformat": 4,
 "nbformat_minor": 2
}
